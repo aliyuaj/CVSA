{
 "cells": [
  {
   "cell_type": "code",
   "execution_count": null,
   "metadata": {},
   "outputs": [],
   "source": [
    "import tweepy\n",
    "import csv\n",
    "import datetime\n",
    "import nltk\n",
    "import re"
   ]
  },
  {
   "cell_type": "code",
   "execution_count": null,
   "metadata": {},
   "outputs": [],
   "source": [
    "# API credentials \n",
    "consumer_key = 'Your Key here'\n",
    "consumer_secret = 'Your Key here'\n",
    "access_token = 'Your Key here'\n",
    "access_token_secret = 'Your Key here'"
   ]
  },
  {
   "cell_type": "code",
   "execution_count": null,
   "metadata": {},
   "outputs": [],
   "source": [
    "#authorize tweepy using the keys\n",
    "auth = tweepy.OAuthHandler(consumer_key, consumer_secret)\n",
    "auth.set_access_token(access_token, access_token_secret)\n",
    "api =tweepy.API(auth,wait_on_rate_limit=True,wait_on_rate_limit_notify=True)"
   ]
  },
  {
   "cell_type": "code",
   "execution_count": null,
   "metadata": {},
   "outputs": [],
   "source": [
    "#Get tweets with corona virus based on geolocation\n",
    "searchString = \"Corona virus since:2020-2-27 until:2020-3-1 -filter:retweets -filter:media\"\n",
    "location = \"9.0427603,7.8227,1000km\"\n",
    "cursor = tweepy.Cursor(api.search, q=searchString, geocode=location,lang=\"en\", tweet_mode='extended')\n",
    "tweets_file = open('CV_tweets.csv', mode='w', newline='', encoding='utf-8')\n",
    "tweet_writer = csv.writer(tweets_file)\n",
    "tweet_writer.writerow(['Tweet','Location','Date'])"
   ]
  },
  {
   "cell_type": "code",
   "execution_count": null,
   "metadata": {},
   "outputs": [],
   "source": [
    "maxCount = 1500\n",
    "count = 0\n",
    "try:\n",
    "    for tweet in cursor.items():   \n",
    "        tweet_writer.writerow([tweet.full_text.encode('utf-8'),tweet.user.location,tweet.created_at])\n",
    "        count = count + 1\n",
    "        if count == maxCount:\n",
    "            break;\n",
    "except tweepy.TweepError as e:\n",
    "    print (e)\n",
    "tweets_file.close()"
   ]
  }
 ],
 "metadata": {
  "kernelspec": {
   "display_name": "Python 3",
   "language": "python",
   "name": "python3"
  },
  "language_info": {
   "codemirror_mode": {
    "name": "ipython",
    "version": 3
   },
   "file_extension": ".py",
   "mimetype": "text/x-python",
   "name": "python",
   "nbconvert_exporter": "python",
   "pygments_lexer": "ipython3",
   "version": "3.6.8"
  }
 },
 "nbformat": 4,
 "nbformat_minor": 2
}
